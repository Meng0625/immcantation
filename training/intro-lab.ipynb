{
 "cells": [
  {
   "cell_type": "markdown",
   "metadata": {
    "cell_style": "center",
    "slideshow": {
     "slide_type": "slide"
    }
   },
   "source": [
    "# Introduction to B cell repertoire analysis using the Immcantation framework\n",
    "\n",
    "![](assets/cover.png)\n",
    "\n",
    "The field of high-throughput adaptive immune receptor repertoire sequencing (AIRR-seq) has experienced significant growth in recent years, but this growth has come with considerable complexity and variety in experimental design. These complexities, combined with the high germline and somatic diversity of immunoglobulin repertoires, present analytical challenges requiring specialized methodologies.\n",
    "\n",
    "<br><strong>This tutorial covers:</strong>\n",
    "<ul><li>V(D)J gene annotation and novel polymorphism detection\n",
    "<li>Clonotype assignment\n",
    "<li>Diversity analysis\n",
    "<li>Mutational load profiling\n",
    "<li>Modeling of somatic hypermutation targeting\n",
    "<li>Quantification of selection pressure\n",
    "</ul>\n",
    "\n",
    "![](assets/workflow_h_cmd.png)\n"
   ]
  },
  {
   "cell_type": "markdown",
   "metadata": {
    "cell_style": "center",
    "slideshow": {
     "slide_type": "slide"
    }
   },
   "source": [
    "# Resources\n",
    "\n",
    "- Questions, issues, help immcantation@googlegroups.com\n",
    "\n",
    "- Documentation http://immcantation.org\n",
    "\n",
    "- Source code and bug reports https://bitbucket.org/kleinstein/\n",
    "\n",
    "- Docker/Singularity container https://hub.docker.com/r/kleinstein/immcantation\n",
    "\n",
    "- Slides and example data https://goo.gl/FpW3Sc\n"
   ]
  },
  {
   "cell_type": "markdown",
   "metadata": {
    "slideshow": {
     "slide_type": "slide"
    }
   },
   "source": [
    "# Inside this container\n",
    "\n",
    "This container comes with software, scripts, reference germlines and example data ready to use. The commands `versions report` and `builds report` show the versions and/or dates of the tools and data.\n",
    "\n",
    "## Software versions\n",
    "Use this command to list the software versions"
   ]
  },
  {
   "cell_type": "code",
   "execution_count": null,
   "metadata": {
    "cell_style": "center",
    "scrolled": true,
    "slideshow": {
     "slide_type": "-"
    }
   },
   "outputs": [],
   "source": [
    "%%bash\n",
    "versions report"
   ]
  },
  {
   "cell_type": "markdown",
   "metadata": {
    "cell_style": "center",
    "slideshow": {
     "slide_type": "subslide"
    }
   },
   "source": [
    "## Builds versions\n",
    "Use this command to list the date and changesets used during the image build."
   ]
  },
  {
   "cell_type": "code",
   "execution_count": null,
   "metadata": {
    "cell_style": "center",
    "scrolled": true,
    "slideshow": {
     "slide_type": "-"
    }
   },
   "outputs": [],
   "source": [
    "%%bash\n",
    "builds report"
   ]
  },
  {
   "cell_type": "markdown",
   "metadata": {
    "cell_style": "center",
    "slideshow": {
     "slide_type": "subslide"
    }
   },
   "source": [
    "## Example data\n",
    "\n",
    "`../data/input.fasta` Processed reads from one healthy donor (PGP1) 3 weeks after flu vaccination (Laserson et al. (2014))"
   ]
  },
  {
   "cell_type": "markdown",
   "metadata": {
    "cell_style": "center",
    "slideshow": {
     "slide_type": "subslide"
    }
   },
   "source": [
    "## Reference germlines\n",
    "\n",
    "The container has human and mouse reference germlines from IMGT, and the corresponding IgBLAST databases."
   ]
  },
  {
   "cell_type": "code",
   "execution_count": null,
   "metadata": {
    "slideshow": {
     "slide_type": "-"
    }
   },
   "outputs": [],
   "source": [
    "%%bash\n",
    "ls /usr/local/share/germlines/imgt"
   ]
  },
  {
   "cell_type": "code",
   "execution_count": null,
   "metadata": {
    "slideshow": {
     "slide_type": "-"
    }
   },
   "outputs": [],
   "source": [
    "%%bash\n",
    "ls /usr/local/share/igblast"
   ]
  },
  {
   "cell_type": "markdown",
   "metadata": {
    "slideshow": {
     "slide_type": "slide"
    }
   },
   "source": [
    "# V(D)J segment annotation\n",
    "\n",
    "First step in the analysis of processed reads (`input.fasta`) is to obtain reads annotated with V(D)J alleles and CDR3 sequences.\n",
    "\n",
    "Tools: IMGT/HighV-QUEST, IgBLAST, or other. Change-O provides a wrapper script (`AssignGenes.py`) to run IgBLAST using the reference germlines in the container."
   ]
  },
  {
   "cell_type": "markdown",
   "metadata": {
    "cell_style": "center",
    "slideshow": {
     "slide_type": "subslide"
    }
   },
   "source": [
    "##  A test with 200 sequences\n",
    "\n",
    "For a quick test of Change-O's V(D)J assignment tool, use `SplitSeq.py` to extract 200 sequences from `input.fasta` and then assing genes with `AssignGenes.py`."
   ]
  },
  {
   "cell_type": "code",
   "execution_count": null,
   "metadata": {
    "cell_style": "center",
    "slideshow": {
     "slide_type": "-"
    }
   },
   "outputs": [],
   "source": [
    "%%bash\n",
    "# reference germlines in /usr/local/share/igblast\n",
    "mkdir -p results/igblast\n",
    "SplitSeq.py sample -n 200 --outdir results --fasta -s ../data/input.fasta\n"
   ]
  },
  {
   "cell_type": "markdown",
   "metadata": {
    "slideshow": {
     "slide_type": "subslide"
    }
   },
   "source": [
    "`AssignGenes.py` performs V(D)J assignment with IgBLAST. It requires the input sequences (`-s`) and a reference germlines database (`-b`), in this case the one already available in the container. Specify the organism with `--organism` and the type of receptor with `--loci` (ig for B cell receptor). Use `--format blast` to specify the results should be in the `fmt7` format. Specify the number of processors with `--nproc`. "
   ]
  },
  {
   "cell_type": "code",
   "execution_count": null,
   "metadata": {
    "slideshow": {
     "slide_type": "-"
    }
   },
   "outputs": [],
   "source": [
    "%%bash\n",
    "AssignGenes.py igblast -s results/input_sample1-n200.fasta \\\n",
    "-b /usr/local/share/igblast --organism human --loci ig \\\n",
    "--format blast --outdir results/igblast --nproc 8"
   ]
  },
  {
   "cell_type": "markdown",
   "metadata": {
    "slideshow": {
     "slide_type": "subslide"
    }
   },
   "source": [
    "## With all data"
   ]
  },
  {
   "cell_type": "markdown",
   "metadata": {
    "slideshow": {
     "slide_type": "-"
    }
   },
   "source": [
    "In the same command used above, just change the input file (`-s`) to use all data. This will take some time to finish... "
   ]
  },
  {
   "cell_type": "code",
   "execution_count": null,
   "metadata": {
    "slideshow": {
     "slide_type": "-"
    }
   },
   "outputs": [],
   "source": [
    "%%bash\n",
    "AssignGenes.py igblast -s ../data/input.fasta \\\n",
    "-b /usr/local/share/igblast --organism human --loci ig \\\n",
    "--format blast --outdir results/igblast --nproc 8"
   ]
  },
  {
   "cell_type": "markdown",
   "metadata": {
    "slideshow": {
     "slide_type": "slide"
    }
   },
   "source": [
    "# Changeo-O: Data standardization"
   ]
  },
  {
   "cell_type": "markdown",
   "metadata": {
    "slideshow": {
     "slide_type": "-"
    }
   },
   "source": [
    "Gupta et al. (2015)\n",
    "\n",
    "Once the V(D)J annotation is finished, parse IgBLAST results into a standardized format suitable for downstream analysis. All tools in the framework use this format, which allows for interoperability, and provides flexibility to design complex workflows.\n",
    "\n",
    "In this example analysis, parse the `fmt7` results from IgBLAST into the [Change-O](https://changeo.readthedocs.io) format: a tabulated text file with rows being the sequences and columns their annotations, using standard column names as described here https://changeo.readthedocs.io/en/latest/standard.html.\n",
    "\n",
    "The command line tool `MakeDb.py igblast` needs the original input fasta (`-s`) and the aligner results (`-i`). The argument `--format changeo` specifies to use the Change-O format. `-r` contains the path to the reference germlines retrieved from IMGT and already available in the container. `--regions` specifies IMGT FWR and CDRs should be included in the output. `--scores` specifies alignment score metrics should be included in the output."
   ]
  },
  {
   "cell_type": "code",
   "execution_count": null,
   "metadata": {
    "scrolled": false,
    "slideshow": {
     "slide_type": "-"
    }
   },
   "outputs": [],
   "source": [
    "%%bash\n",
    "mkdir -p results/changeo\n",
    "MakeDb.py igblast \\\n",
    "-s ../data/input.fasta -i results/igblast/input_igblast.fmt7 \\\n",
    "--format changeo \\\n",
    "-r /usr/local/share/germlines/imgt/human/vdj/ --outdir results/changeo \\\n",
    "--regions --scores --outname data"
   ]
  },
  {
   "cell_type": "markdown",
   "metadata": {
    "slideshow": {
     "slide_type": "subslide"
    }
   },
   "source": [
    "## Subset to productive heavy chain sequences\n",
    "\n",
    "To focus the analysis on productive sequences from the heavy chain, data from the previous step needs to be filtered.\n",
    "\n",
    "### Select functional sequences\n",
    "\n",
    "`ParseDb.py select` finds the rows in the file `-d` for which the column `FUNCTIONAL` (specified with `-f`) contains the values `T` or `TRUE` (specified by `-u`). The prefix `data_f` will be used in the name of the output file (specified by `--outname`)."
   ]
  },
  {
   "cell_type": "code",
   "execution_count": null,
   "metadata": {
    "slideshow": {
     "slide_type": "-"
    }
   },
   "outputs": [],
   "source": [
    "%%bash\n",
    "ParseDb.py select -d results/changeo/data_db-pass.tab \\\n",
    "-f FUNCTIONAL -u T TRUE --outname data_f"
   ]
  },
  {
   "cell_type": "markdown",
   "metadata": {
    "slideshow": {
     "slide_type": "subslide"
    }
   },
   "source": [
    "### Select heavy chain sequences\n",
    "\n",
    "Next, `ParseDb.py select` finds the rows in the file `-d` from the previous step for which the column `V_CALL` (specified with `-f`) contains (pattern matching specified by `--regex`) the word `IGHV` (specified by `-u`). The prefix `data_fh` (standing for functional and heavy) will be used in the name of the output file (specified by `--outname`)."
   ]
  },
  {
   "cell_type": "code",
   "execution_count": null,
   "metadata": {
    "slideshow": {
     "slide_type": "-"
    }
   },
   "outputs": [],
   "source": [
    "%%bash\n",
    "ParseDb.py select -d results/changeo/data_f_parse-select.tab \\\n",
    "-f V_CALL -u IGHV --regex --outname data_fh"
   ]
  },
  {
   "cell_type": "markdown",
   "metadata": {
    "slideshow": {
     "slide_type": "slide"
    }
   },
   "source": [
    "# Some set up for the notebook to run R code\n",
    "The next two lines of code are required for this Jupyter Notebook to use the `R magic` and run `R` code. Next steps in the tutororial will use the R packages in the Immcantation framework."
   ]
  },
  {
   "cell_type": "code",
   "execution_count": null,
   "metadata": {
    "slideshow": {
     "slide_type": "-"
    }
   },
   "outputs": [],
   "source": [
    "import rpy2.rinterface\n",
    "%load_ext rpy2.ipython"
   ]
  },
  {
   "cell_type": "markdown",
   "metadata": {
    "slideshow": {
     "slide_type": "slide"
    }
   },
   "source": [
    "# TIgGER: genotyping, including novel V gene alleles\n",
    "\n",
    "Gadala-Maria et al. (2015) Gadala-Maria et al. (2019)\n",
    "\n",
    "V(D)J assignment is a key step in analyzing repertoires, and it is done by matching the sequences against a database of known V(D)J alleles. But databases are incomplete, and this process will fail for sequences that utilize previously undetected alleles. Also, there will be situations where the aligner fings a tie and can't decide between multiple possible calls, and therefore some sequences have multiple annotations. The TIgGER R package can help here by <strong>finding novel alleles</strong> as well as <strong>inferring the individual’s genotype to correct calls</strong>. \n",
    "\n",
    "\n",
    "After loading the libraries needed, `readChangeoDb` is used to read the tabulated data generated in the previous step."
   ]
  },
  {
   "cell_type": "code",
   "execution_count": null,
   "metadata": {
    "scrolled": true,
    "slideshow": {
     "slide_type": "-"
    }
   },
   "outputs": [],
   "source": [
    "%%R\n",
    "suppressPackageStartupMessages(library(alakazam))\n",
    "suppressPackageStartupMessages(library(tigger))\n",
    "suppressPackageStartupMessages(library(dplyr))\n",
    "suppressPackageStartupMessages(library(ggplot2))\n",
    "dir.create(\"results/tigger\")\n",
    "db <- readChangeoDb(\"results/changeo/data_fh_parse-select.tab\")\n",
    "# Show column names\n",
    "colnames(db)"
   ]
  },
  {
   "cell_type": "markdown",
   "metadata": {
    "slideshow": {
     "slide_type": "slide"
    }
   },
   "source": [
    "`readIgFasta` loads the V germline reference alleles that were used in the V(D)J assignment, in this case the sequences in the Immcantation container."
   ]
  },
  {
   "cell_type": "code",
   "execution_count": null,
   "metadata": {
    "slideshow": {
     "slide_type": "-"
    }
   },
   "outputs": [],
   "source": [
    "%%R\n",
    "ighv <- readIgFasta(\"/usr/local/share/germlines/imgt/human/vdj/imgt_human_IGHV.fasta\")\n",
    "# See first germline\n",
    "ighv[1]"
   ]
  },
  {
   "cell_type": "markdown",
   "metadata": {
    "slideshow": {
     "slide_type": "subslide"
    }
   },
   "source": [
    "## Identify polymorphisms\n",
    "\n",
    "Once data are loaded, for each allele, `findNovelAlleles` analyzes the sequences that were assigned the allele, and evaluates the mutation frequency at each position as a function of sequence-wide mutation counts. We expect polymorphic positions to exhibit a high mutation frequency despite sequence-wide mutation count. In this example, TIgGER finds one novel allele."
   ]
  },
  {
   "cell_type": "code",
   "execution_count": null,
   "metadata": {
    "slideshow": {
     "slide_type": "-"
    }
   },
   "outputs": [],
   "source": [
    "%%R\n",
    "# find novel alleles\n",
    "nv <- findNovelAlleles(db, germline_db=ighv, nproc=8)"
   ]
  },
  {
   "cell_type": "code",
   "execution_count": null,
   "metadata": {
    "slideshow": {
     "slide_type": "-"
    }
   },
   "outputs": [],
   "source": [
    "%%R\n",
    "# show novel alleles\n",
    "selectNovel(nv)"
   ]
  },
  {
   "cell_type": "markdown",
   "metadata": {
    "slideshow": {
     "slide_type": "subslide"
    }
   },
   "source": [
    "The function `plotNovel` helps visualize the supporting evidence for calling the novel allele. The mutation frequency of the novel polymorphism is highlighted in red. The position is consistently mutated, it is high for all sequence-wide mutation count (top panel). By the default, `findNovelAlleles` uses several thresholds to avoid false positives. For instance, to avoid calling novel alleles resulting from clonally-related sequences, TIgGER requires that sequences perfectly matching the potential novel allele utilize a wide range of combinations of J gene and junction length. The novel allele is expected to be found in diverse J genes and juntion length combinations and this can be observed in the bottom panel.\n",
    "\n"
   ]
  },
  {
   "cell_type": "code",
   "execution_count": null,
   "metadata": {
    "slideshow": {
     "slide_type": "-"
    }
   },
   "outputs": [],
   "source": [
    "%%R\n",
    "# visualize\n",
    "plotNovel(db, selectNovel(nv)[1,])"
   ]
  },
  {
   "cell_type": "markdown",
   "metadata": {
    "slideshow": {
     "slide_type": "subslide"
    }
   },
   "source": [
    "## Genotyping, including novel V gene alleles\n",
    "\n",
    "The next step is to infer the subject’s genotype and correct gene calls. The idea is to remove calls that were assigned to a sequence, but that after looking at the whole individual’s repertoire, they are relatively rare and therefore unlikely to be correct allele calls in the context of the particular individual.\n",
    "\n",
    "`inferGenotype` uses a frequency method to determine the genotype. It finds the minimum number set of alleles that can explain the majority of each gene’s calls. The most common allele of each gene is included in the genotype first, then the next most common allele is added until the desired fraction of alleles can be explained."
   ]
  },
  {
   "cell_type": "code",
   "execution_count": null,
   "metadata": {
    "slideshow": {
     "slide_type": "-"
    }
   },
   "outputs": [],
   "source": [
    "%%R\n",
    "gt <- inferGenotype(db, germline_db=ighv, novel=nv)\n",
    "# save genotype inf .fasta format to be used later with CreateGermlines.py\n",
    "gtseq <- genotypeFasta(gt, ighv, nv)\n",
    "writeFasta(gtseq, \"results/tigger/v_genotype.fasta\")\n",
    "# show first 3 rows\n",
    "gt %>% arrange(TOTAL) %>% slice(1:3)"
   ]
  },
  {
   "cell_type": "markdown",
   "metadata": {
    "slideshow": {
     "slide_type": "subslide"
    }
   },
   "source": [
    "The individual's genotype can be visualized with `plotGenotype`. Each row is a gene and has as many colored cells as alleles for that gene in the genotype."
   ]
  },
  {
   "cell_type": "code",
   "execution_count": null,
   "metadata": {
    "slideshow": {
     "slide_type": "-"
    }
   },
   "outputs": [],
   "source": [
    "%%R\n",
    "plotGenotype(gt)## Genotyping, including novel V gene alleles"
   ]
  },
  {
   "cell_type": "markdown",
   "metadata": {
    "slideshow": {
     "slide_type": "subslide"
    }
   },
   "source": [
    "## Reassign alleles\n",
    "\n",
    "The gene calls can be corrected with `reassignAlleles`. Mistaken allele calls can come from sequences which by chance have been mutated to look like another allele, and after learning the individual's genotype, they can be corrected. `reassignAlleles` saves the corrected calls in a new column, `V_CALL_GENOTYPED`. With `writeChangeoDb` the updated data is saved as a tabulated file for use in next steps.\n"
   ]
  },
  {
   "cell_type": "code",
   "execution_count": null,
   "metadata": {
    "slideshow": {
     "slide_type": "-"
    }
   },
   "outputs": [],
   "source": [
    "%%R\n",
    "db <- reassignAlleles(db, gtseq)\n",
    "# show some of the corrected gene calls\n",
    "db %>% filter(V_CALL != V_CALL_GENOTYPED) %>%\n",
    "sample_n(3) %>% select(V_CALL, V_CALL_GENOTYPED)"
   ]
  },
  {
   "cell_type": "code",
   "execution_count": null,
   "metadata": {
    "slideshow": {
     "slide_type": "-"
    }
   },
   "outputs": [],
   "source": [
    "%%R\n",
    "writeChangeoDb(db, \"results/tigger/data_fh_genotyped.tab\")"
   ]
  },
  {
   "cell_type": "markdown",
   "metadata": {
    "cell_style": "center",
    "slideshow": {
     "slide_type": "slide"
    }
   },
   "source": [
    "# Clonal diversity analysis\n",
    "\n",
    "Goal: Partition (cluster) sequences into clonally related lineages. Each lineage is a group of sequences that came from the same original naive cell.\n",
    "\n",
    "Summary of the key steps:\n",
    "    \n",
    "- Determine clonal clustering threshold: sequences which are under this cut-off are clonally related.\n",
    "\n",
    "- Assign clonal groups: add and annotation (columname `CLONE`) that can be uses to identify a group of sequences that came from the same original naive cell.\n",
    "\n",
    "- Reconstruct germline sequences: figure out the germline sequence of the common ancestor, before mutations are introduced during clonal expansion and SMH.\n",
    "\n",
    "- Analize clonal diversity: number and size of clones? any expanded clones?\n",
    "\n",
    "\n",
    "![](assets/clonalexpansion.png)\n",
    "\n"
   ]
  },
  {
   "cell_type": "markdown",
   "metadata": {
    "cell_style": "center",
    "slideshow": {
     "slide_type": "subslide"
    }
   },
   "source": [
    "## Clonal assignment using the CDR3 as a fingerprint\n",
    "\n",
    "Gupta et al. (2017) Nouri and Steven H Kleinstein (2018b)\n",
    "\n",
    "Clonal relationships can be inferred from sequencing data. Hierarchical clustering is the most widely used method for identify clonally related sequences. This method requires a measure of distance between pairs of sequences and a choice of linkage to define the distance between groups of sequences. And because the result will be a tree, a threshold to cut the hierachy into clonal groups is also needed. \n",
    "\n",
    "The figure bellow-left shows a tree and the chosen threshold (red dotted line). Sequences which have a distance under this cut-off are considered clonally whereas sequences which have distance above this cut-off, are considered too different and therefore not clonally related. `shazam` provides methods to calculate the distance between sequences and find a threshold (`distToNearest` and `findThreshold`). Analyzing the distance to the nearest neighbour is enough to distiguish clonal relationships. The figure below-right shows the distribution of the distances to the nearest neighbour for a repertoire. Typically, the distribution is bimodal. The first mode (left) represents sequences which are clonally related, and the second mode is representative of sequences which are not clonally related. The threshold can be seen, here, by eye, at the equal-distance between two modes. However, `findThreshold` can be used to automatically find the threshold."
   ]
  },
  {
   "cell_type": "markdown",
   "metadata": {
    "slideshow": {
     "slide_type": "-"
    }
   },
   "source": [
    "<img src=\"assets/hclust.png\" width=\"35%\" align=\"left\"><img src=\"assets/distNearest.png\" width=\"30%\" align=\"left\">"
   ]
  },
  {
   "cell_type": "markdown",
   "metadata": {
    "slideshow": {
     "slide_type": "subslide"
    }
   },
   "source": [
    "## SHazaM: Tuning of the clonal assignment threshold\n",
    "\n",
    "Gupta et al. (2015)\n",
    "\n",
    "The repertoire can be large and it is common to first split data into smaller groups of sequences using some similarity requirement (same V gene, same J gene and same junction length)  and on each group, apply the hierarchical clustering on the junction sequence. `distToNearest` performs this grouping step then, for each group, it counts the mismatches in the junction region between all the sequences, and for each sequence, returns the smallest non-zero value. At the end of this step, `db` has been added a new column, `DIST_NEAREST`, which contains the distances to the most similar sequence in the group.\n",
    "\n",
    "`findThreshold` uses the distribution of distances calculated in the previous step and either a `density` or `mixture` method to determine a threshold that can be user to cut the hierarchy. The function `plot` can be used to visualize the distance distribution and the threshold. Sequences with less missmatches are expected to be clonally related and contribute to the first mode in the distribution plot, while those sequences with higher number of mismatches are not expected to be clonally related and therefore will appear on the second mode, in farther distances."
   ]
  },
  {
   "cell_type": "code",
   "execution_count": null,
   "metadata": {
    "slideshow": {
     "slide_type": "-"
    }
   },
   "outputs": [],
   "source": [
    "%%R -o thr\n",
    "# Get the distance to nearest neighbors\n",
    "suppressPackageStartupMessages(library(shazam))\n",
    "db <- distToNearest(db, model=\"ham\", normalize=\"len\", vCallColumn=\"V_CALL_GENOTYPED\", nproc=4)\n",
    "# Determine threshold\n",
    "threshold <- findThreshold(db$DIST_NEAREST, method=\"density\")\n",
    "thr <- round(threshold@threshold, 2)\n",
    "thr"
   ]
  },
  {
   "cell_type": "code",
   "execution_count": null,
   "metadata": {
    "scrolled": true,
    "slideshow": {
     "slide_type": "subslide"
    }
   },
   "outputs": [],
   "source": [
    "%%R\n",
    "# plot the distribution\n",
    "plot(threshold)"
   ]
  },
  {
   "cell_type": "markdown",
   "metadata": {
    "slideshow": {
     "slide_type": "subslide"
    }
   },
   "source": [
    "### New method: Spectral clonal clustering methods (SCOPer)\n",
    "\n",
    "Nouri and Steven H Kleinstein (2018a)\n",
    "\n",
    "The bimodal distribution is not always detectable and therefore `findThreshold` may fail to determine the cut-off. We have developed an unsupervised computational framework to perform the cloning based on the local  relationships of the sequences among different neighborhoods. This can be done by `defineClonesScoper()` function from the SCOPer R package.\n",
    "\n"
   ]
  },
  {
   "cell_type": "markdown",
   "metadata": {
    "slideshow": {
     "slide_type": "subslide"
    }
   },
   "source": [
    "## Change-O: Clonal assignment\n",
    "\n",
    "Once a threshold is decided, the command line tool `DefineClones.py` from Change-O performs the clonal assignment. There are some arguments that need to be specified. \n",
    "- `--model`: the distance metric used in `distToNearest`\n",
    "- `--norm`: type of normalization used in `distToNearest`\n",
    "- `--dist`: the cut-off from `findThreshold`\n",
    "\n",
    "At the end of this step, the output file will have an additional column, `CLONE`, with the clone identifiers which have been assigned to each sequence."
   ]
  },
  {
   "cell_type": "code",
   "execution_count": null,
   "metadata": {
    "slideshow": {
     "slide_type": "-"
    }
   },
   "outputs": [],
   "source": [
    "# Assign clonal groups\n",
    "! DefineClones.py -d results/tigger/data_fh_genotyped.tab --vf V_CALL_GENOTYPED \\\n",
    "--model ham --norm len --dist {thr[0]} --nproc 8 \\\n",
    "--outname data_fh_genotyped --outdir results/changeo/"
   ]
  },
  {
   "cell_type": "markdown",
   "metadata": {
    "slideshow": {
     "slide_type": "subslide"
    }
   },
   "source": [
    "## Change-O: add full length germline sequences\n",
    "\n",
    "Next step is to identify the V(D)J germline sequences from which the observed sequences originated. These germlines will be used in downstream analysis to infer mutations and reconstruct lineages.\n",
    "\n",
    "`CreatGermlines.py` takes the alignment information in the Change-O file (`-d`) as well as the reference database used by the alignment software (`-r`) and generates a full-length germline sequence for each individual observed sequence, unless the argument `--cloned` is used, in which case, the function assign the same germline to all sequences belonging to the same clone. `-g` is used to specify the type of germlines to be reconstructed. In this example, `-g dmask` is used to mask the D region, that is, to replace nucleotides in the  N/P and D-segments with N's. This is done because the D-segment call for B cell receptor alignments is often low confidence. At the end of this step, the data file will have the germline sequence in the `GERMLINE_IMGT_D_MASK`.\n",
    "\n",
    "\n"
   ]
  },
  {
   "cell_type": "code",
   "execution_count": null,
   "metadata": {
    "slideshow": {
     "slide_type": "-"
    }
   },
   "outputs": [],
   "source": [
    "%%bash\n",
    "CreateGermlines.py -d results/changeo/data_fh_genotyped_clone-pass.tab \\\n",
    "-r /usr/local/share/germlines/imgt/human/vdj/*IGH[DJ].fasta results/tigger/v_genotype.fasta \\\n",
    "-g dmask --cloned --vf V_CALL_GENOTYPED \\\n",
    "--outname data_fh_genotyped"
   ]
  },
  {
   "cell_type": "markdown",
   "metadata": {
    "slideshow": {
     "slide_type": "subslide"
    }
   },
   "source": [
    "## Alakazam: Analysis of clonal diversity\n",
    "\n",
    "Gupta et al. (2015)\n",
    "\n",
    "Once the original database is annotated with clonal relatioships (`CLONE`), the R package `alakazam` is used to analyze clonal diversity and abundance."
   ]
  },
  {
   "cell_type": "markdown",
   "metadata": {
    "slideshow": {
     "slide_type": "-"
    }
   },
   "source": [
    "### Load data and subset to IGHM, IGHG and IGHA\n",
    "\n",
    "The tab-delimited file is loaded with the function `readChangeoDb`. In this example, the analysis will focus on sequences that have been annotated isotypes IGHM, IGHG or IGHA. The function `subset` is used to keep only those sequences."
   ]
  },
  {
   "cell_type": "code",
   "execution_count": null,
   "metadata": {
    "slideshow": {
     "slide_type": "-"
    }
   },
   "outputs": [],
   "source": [
    "%%R\n",
    "dir.create(\"results/alakazam\")\n",
    "# Upate names in alakazam’s default colors (IG_COLORS)\n",
    "names(IG_COLORS) <- c( \"IGHA\", \"IGHD\", \"IGHE\", \"IGHG\", \"IGHM\",\"IGHK\", \"IGHL\")\n",
    "# Read file that passed cloning and germline creation\n",
    "db <- readChangeoDb(\"results/changeo/data_fh_genotyped_germ-pass.tab\")\n",
    "# Subset data to IgM, IgG and IgA\n",
    "db <- subset(db, ISOTYPE %in% c(\"IGHM\",\"IGHG\",\"IGHA\"))"
   ]
  },
  {
   "cell_type": "markdown",
   "metadata": {
    "slideshow": {
     "slide_type": "subslide"
    }
   },
   "source": [
    "### Estimate clonal abundance\n",
    "\n",
    "`estimageAbundance` estimates the complete clonal relative abundance distribution and confidence intervals on clone sizes using bootstrapping. In this example, the abundance is analyzed by isotype (`group=ISOTYPE`). In the figure below, generated with the function `plot`, the y-axis shows the clone size as a percent of the repertoire and the x-axis is a rank of clone sizes, where clones are sorted by size from larger (rank 1, left) to smaller (right). The shaded areas are confidence intervals. \n",
    "\n"
   ]
  },
  {
   "cell_type": "code",
   "execution_count": null,
   "metadata": {
    "slideshow": {
     "slide_type": "-"
    }
   },
   "outputs": [],
   "source": [
    "%%R\n",
    "# Calculate rank-abundance curve\n",
    "a <- estimateAbundance(db, group=\"ISOTYPE\")\n",
    "plot(a, colors=IG_COLORS)"
   ]
  },
  {
   "cell_type": "markdown",
   "metadata": {
    "slideshow": {
     "slide_type": "subslide"
    }
   },
   "source": [
    "### Clonal diversity\n",
    "\n",
    "Another common way to approach clonal abundance analysis is the diversity statistics. Diversity scores (`D`) are calculated using the generalized diversity index (Hill numbers), which is a generalized case which covers different measures of diversity in a single function over a single varying parameter `q`.\n",
    "\n",
    "The function `rarefyDiversity` resamples the sequences and calculates diversity scores (`D`) over an interval of diversity orders (`q`) and the result can be visualized with `plot`. The diversity (`D`) is shown on the y-axis and the x-axis is Hill numbers over parameter `q`. `q=0` corresponds to Species Richness, `q=1` corresponds Shanon Entropy and `q=2` corresponds Simpson Index. This figure is useful to visualize if diversity depends on the statistics used or it is an universal. For example, you can see that the blue curve is changing when you change `q`, whereas the  diversity of the green and red curves doesn't change significantly along values of `q`. "
   ]
  },
  {
   "cell_type": "code",
   "execution_count": null,
   "metadata": {
    "slideshow": {
     "slide_type": "-"
    }
   },
   "outputs": [],
   "source": [
    "%%R\n",
    "# Generate Hill diversity curve\n",
    "d <- rarefyDiversity(db, group=\"ISOTYPE\")\n",
    "p <- plot(d, silent=T)\n",
    "p + \n",
    "   geom_vline(xintercept=c(0,1,2), color=\"grey50\", linetype=\"dashed\") + \n",
    "   geom_text(data=data.frame(q=c(0,1,2), y=round(max(p$data$D_UPPER)/2), \n",
    "             label=c(\"Richness\", \"Shannon\", \"Simpson\")), \n",
    "             aes(x=q, y=y,label=label), size=3, angle=90, vjust=-0.4, inherit.aes = F, color=\"grey50\")"
   ]
  },
  {
   "cell_type": "markdown",
   "metadata": {
    "slideshow": {
     "slide_type": "slide"
    }
   },
   "source": [
    "# Alakazam: Physicochemical properties of the CDR3\n",
    "\n",
    "The CDR3 is the most variable region of the antibody and its physicochemical properties are key contributors to the final antigen specificity. The function `aminoAcidProperties` in the `alakazam` R package can calculate several amino acid sequence physicochemical properties like length, hydrophobicity (GRAVY index), bulkiness, polarity and net charge, among others. In this example, the junction sequence (specified by `seq=\"JUNCTION\"`), which is available in the form of a nucleotide sequence (`nt=T`), is trimmed to remove the first and last codon/amino acids before calculating the properties. Trimming of these codons, which correspond to the conserved positions that delimit the CDR3, means that the physicochemical analyzed will be those of the CDR3, and consequently naming the new columns that will be generated with `label=\"CDR3\"` is appropriate.\n",
    "\n",
    "\n",
    "The figure below, generated with standard `ggplot` commands, shows the distribution of the CDR3 amino acid length by isotype.\n",
    "\n",
    "\n"
   ]
  },
  {
   "cell_type": "code",
   "execution_count": null,
   "metadata": {
    "slideshow": {
     "slide_type": "-"
    }
   },
   "outputs": [],
   "source": [
    "%%R\n",
    "# Calculate CDR3 amino acid properties\n",
    "db <- aminoAcidProperties(db, seq=\"JUNCTION\", nt=T, trim=T, label=\"CDR3\")\n",
    "# Plot\n",
    "ggplot(db, aes(x=ISOTYPE, y=CDR3_AA_LENGTH)) + theme_bw() +\n",
    "ggtitle(\"CDR3 length\") + xlab(\"Isotype\") + ylab(\"Amino acids\") +\n",
    "scale_fill_manual(name=\"Isotype\", values=IG_COLORS) +\n",
    "geom_boxplot(aes(fill=ISOTYPE))"
   ]
  },
  {
   "cell_type": "markdown",
   "metadata": {
    "slideshow": {
     "slide_type": "slide"
    }
   },
   "source": [
    "# Alakazam: family, gene and allele usage\n",
    "\n",
    "The study of biases in gene segment usage is also of interest, as it has been observed to exist when comparing different populations, developmental stages or health vs disease. The function `countGenes` from the `alakazam` R packages can determine the count and relative abundance of V(D)J alleles, genes, or families within groups.\n",
    "\n",
    "## V family usage by isotype\n",
    "\n",
    "Here, `countGenes` counts V gene family usage (`mode=\"family\"`) by isotype (`groups=\"ISOTYPE\"`) using the allele calls in the column `V_CALL_GENOTYPED`. `--clone` specifies each clone will be considered only once, using for counting the most common gene within the clone."
   ]
  },
  {
   "cell_type": "code",
   "execution_count": null,
   "metadata": {
    "slideshow": {
     "slide_type": "-"
    }
   },
   "outputs": [],
   "source": [
    "%%R\n",
    "# V family usage by isotype\n",
    "# \"CLONE\" specifies to consider one gene per clone,\n",
    "# the most common gene within each clone\n",
    "usage_fam_iso <- countGenes(db, gene=\"V_CALL_GENOTYPED\", groups=\"ISOTYPE\", clone=\"CLONE\", mode=\"family\")\n",
    "# groups=\"ISOTYPE\", then usage by isotype sums 1\n",
    "usage_fam_iso %>% group_by(ISOTYPE) %>% summarize(total=sum(CLONE_FREQ))"
   ]
  },
  {
   "cell_type": "code",
   "execution_count": null,
   "metadata": {
    "slideshow": {
     "slide_type": "-"
    }
   },
   "outputs": [],
   "source": [
    "%%R\n",
    "ggplot(usage_fam_iso, aes(x=ISOTYPE, y=CLONE_FREQ)) + \n",
    "geom_point(aes(color=ISOTYPE), size=4) +\n",
    "scale_fill_manual(name=\"Isotype\", values=IG_COLORS) + \n",
    "facet_wrap(~GENE, nrow=1) +\n",
    "theme_bw() + ggtitle(\"V Family usage by isotype\") +\n",
    "ylab(\"Percent of repertoire\") + xlab(\"Isotype\")\n"
   ]
  },
  {
   "cell_type": "markdown",
   "metadata": {
    "slideshow": {
     "slide_type": "slide"
    }
   },
   "source": [
    "# Alakazam: lineage reconstruction\n",
    "\n",
    "\n",
    "Related to the clonal diversity analysis, is lineage reconstruction. B cell repertoires often consist of hundreds to thousands of separate low-diversity lineages. A lineage recapitulates the relationships between clonally related B cells and uncovering these relationships is necessary to characterize processes that depend on affinity maturation, such as age related changes in the repertoire, the development of immunological memory or the response to vaccination. The R package `alakazam` uses PHYLIP to reconstruct lineages following a maximum parsimony technique. PHYLIP is already installed in the Immcantation container.\n",
    "\n",
    "Before perfoming the lineage reconstruction, some preprocessing in needed. The code below shows an example of such preprocessing done for one of the largest clones. The function `makeChangeoClone` takes as input a data.frame with information for a clone (`db_clone`). `text_fields=\"ISOTYPE\"` specifies annotation in the column `ISOTYPE` should be merged during duplicate removal. For example, if one of two duplicated sequences is annotated as IGHM and the second one is an IGHG, the collapsed sequence will have the ISOTYPE value IGHM,IGHG. The preprocessing done by `makeChangeoClone` includes mask gap positions, mask ragged ends, remove duplicated sequences and merges annotations associated with duplicated sequences."
   ]
  },
  {
   "cell_type": "code",
   "execution_count": null,
   "metadata": {
    "slideshow": {
     "slide_type": "-"
    }
   },
   "outputs": [],
   "source": [
    "%%R\n",
    "# Select one clone, the 2nd largest, just as an example\n",
    "largest_clone <- countClones(db) %>% slice(2) %>% select(CLONE)\n",
    "# Subset db, get db with data for largest_clone\n",
    "db_clone <- subset(db, V_CALL=\"V_CALL_GENOTYPED\", CLONE == largest_clone[['CLONE']])\n",
    "# Build tree from a single clone\n",
    "x <- makeChangeoClone(db_clone, text_fields=\"ISOTYPE\")"
   ]
  },
  {
   "cell_type": "markdown",
   "metadata": {
    "slideshow": {
     "slide_type": "slide"
    }
   },
   "source": [
    "Lineage reconstruction is done with `buildPhylipLineage`. This function uses the `dnapars` tool from PHYLIP, which in the container is located at `/usr/local/bin/dnapars`, to build the lineage, and returns an `igraph` object. This object can be quickly visualized with the command `plot`. It is possible to use `igraph` or other tools to resize nodes or add colors to help you answer your biologically relevant question."
   ]
  },
  {
   "cell_type": "code",
   "execution_count": null,
   "metadata": {
    "slideshow": {
     "slide_type": "-"
    }
   },
   "outputs": [],
   "source": [
    "%%R\n",
    "# Lineage reconstruction\n",
    "g <- buildPhylipLineage(x, dnapars=\"/usr/local/bin/dnapars\")\n",
    "suppressPackageStartupMessages(library(igraph))\n",
    "plot(g)"
   ]
  },
  {
   "cell_type": "markdown",
   "metadata": {
    "slideshow": {
     "slide_type": "subslide"
    }
   },
   "source": [
    "# Alakazam: lineage topology analysis\n",
    "\n",
    "`alakazam` has several functions to analyze the reconstructed lineage. `getMRCA` retrieves the first non-root node of a lineage tree, namely Most Recent Common Ancestor (MRCA), meaning the ancestor which is most related to the germline, but not exactly the germline. `getpathlength` calculates all the path lengths from the tree root to all individual sequences. `summarizeSubtrees` calculates summary statistics for each node of a tree (node name, name of the parent node, number of edges leading from the node, total number of nodes within the subtree rooted at the node...). `tableEdges` creates a table of the total number of connections (edges) for each unique pair of annotations within a tree over all nodes."
   ]
  },
  {
   "cell_type": "code",
   "execution_count": null,
   "metadata": {
    "slideshow": {
     "slide_type": "-"
    }
   },
   "outputs": [],
   "source": [
    "%%R\n",
    "# Retrieve the most ancestral sequence\n",
    "getMRCA(g, root=\"Germline\")"
   ]
  },
  {
   "cell_type": "code",
   "execution_count": null,
   "metadata": {
    "slideshow": {
     "slide_type": "-"
    }
   },
   "outputs": [],
   "source": [
    "%%R\n",
    "# Calculate distance from germline\n",
    "getPathLengths(g, root=\"Germline\") %>% top_n(2)"
   ]
  },
  {
   "cell_type": "code",
   "execution_count": null,
   "metadata": {
    "slideshow": {
     "slide_type": "-"
    }
   },
   "outputs": [],
   "source": [
    "%%R\n",
    "# Calculate subtree properties\n",
    "summarizeSubtrees(g, fields=\"ISOTYPE\") %>% top_n(2)"
   ]
  },
  {
   "cell_type": "code",
   "execution_count": null,
   "metadata": {
    "slideshow": {
     "slide_type": "-"
    }
   },
   "outputs": [],
   "source": [
    "%%R\n",
    "# Tabulate isotype edge relationships\n",
    "tableEdges(g, \"ISOTYPE\", exclude=c(\"Germline\", NA))"
   ]
  },
  {
   "cell_type": "markdown",
   "metadata": {
    "cell_style": "center",
    "slideshow": {
     "slide_type": "slide"
    }
   },
   "source": [
    "# SHazaM: mutational load\n",
    "\n",
    "B cell repertoires also differ in the number of mutations introduced during somatic hypermutation (SHM). The `shazam` R package is dedicated pretty much entirely to the analysis of SHM, including SHM targeting models and selection pressure.\n",
    "\n",
    "The most intuitive thing to start with, is simply count the mutations in a given sequence. Having identified the germline (`GERMLINE_IMGT_D_MASK`) in previous steps, somatic mutations are identified comparting the observed sequence (`SEQUENCE_IMGT`) to the germline. `observedMutations` can count mutations in either absolute counts (`frequency=F`) or as a frequency (the number of mutations divided by the number of informative positions, `frequency=T`). Replacement (R) and silent (S) mutations can be counted together (`conmbine=T`) or independelty (`combine=F`). Counting can be limited to mutatations happening in a particular region (for example, to focus on the V region `regionDefinition=IMGT_V`) or use the whole sequence (`regionDefinition=NULL`).\n",
    "\n",
    "Standard `ggplot` commands can be used to plot boxplots to visualize the distribution of mutation counts in the column `MU_COUNT` that `observedMutations` added to `db`."
   ]
  },
  {
   "cell_type": "code",
   "execution_count": null,
   "metadata": {
    "slideshow": {
     "slide_type": "-"
    }
   },
   "outputs": [],
   "source": [
    "%%R\n",
    "# Calculate total mutation count, R and S combined\n",
    "db <- observedMutations(db,\n",
    "            sequenceColumn=\"SEQUENCE_IMGT\", \n",
    "            germlineColumn=\"GERMLINE_IMGT_D_MASK\",\n",
    "            regionDefinition=NULL, frequency=F, combine = T, nproc=4)\n",
    "ggplot(db, aes(x=ISOTYPE, y=MU_COUNT, fill=ISOTYPE)) +\n",
    "geom_boxplot() +\n",
    "scale_fill_manual(name=\"Isotype\",values=IG_COLORS) +\n",
    "xlab(\"Isotype\") + ylab(\"Mutation count\") + theme_bw()"
   ]
  },
  {
   "cell_type": "markdown",
   "metadata": {
    "cell_style": "center",
    "slideshow": {
     "slide_type": "slide"
    }
   },
   "source": [
    "# SHazaM: models of SHM targeting biases\n",
    "Yaari et al. (2013)\n",
    "\n",
    "There are known biases in SHM patterns, which are typically associated with nucleotide motifs. There are number of models included in `shazam` which have been built based on experimental datasets for human and mouse, for both light and heavy chains. In addition, `shazam` provides methods to generate the model from the input data.\n",
    "![](assets/5mer.png)\n",
    "`createTargetingModel` can generate models of SHM targeting biases from the input data (`db`) based on 5-mer models. That means for any given 5 nucleotides, it evaluates the chances that the base at the center of that 5-mer can be mutated, and what is it going to be mutated to. The model can be visualized as a hedgehog plot with `plotMutability`. SHM does not target all positions in the BCR equally. The known hot-spot motifs are shown in red and green, the known cold-spot motifs in blue, and the known neutral-spot motifs in grey. The bars outward are the relative mutation rates. The middle circle is the central nucleotide, here shown by a green circle on the left plot (nucleotide A) and an orange circle on the right plot (nucleotide C). Moving inward and outward of the circles covers the rest of the 5-mer nucleotides. The expectation is to see higher relative mutation rates at hot-spot motifs, in contrary to cold- and neutral-motifs."
   ]
  },
  {
   "cell_type": "code",
   "execution_count": null,
   "metadata": {
    "slideshow": {
     "slide_type": "-"
    }
   },
   "outputs": [],
   "source": [
    "%%R\n",
    "dir.create(\"results/shazam\")\n",
    "# Build and plot SHM targeting model\n",
    "m <- createTargetingModel(db, vCallColumn=\"V_CALL_GENOTYPED\")\n",
    "# nucleotides: center nucleotide characters to plot\n",
    "plotMutability(m, nucleotides=c(\"A\",\"C\"), size=1.2)"
   ]
  },
  {
   "cell_type": "markdown",
   "metadata": {
    "cell_style": "center",
    "slideshow": {
     "slide_type": "slide"
    }
   },
   "source": [
    "# SHazaM: quantification of selection pressure\n",
    "\n",
    "Yaari et al. (2012)\n",
    "\n",
    "During the immune response, B cells undergo cycles of SHM and affinity-dependent selection and accumulate mutations that improve their ability to bind antigens. The ability to estimate selection from sequence data is of interest to understand the events driving physiological and pathological immune responses. `shazam` incorporates the most up-to-date methods from the Bayesian estimation of Antigen-driven SELectIoN (BASELINe) framework, which can detect and quantify selection ($\\sum$), based on the analysis of somatic mutation patterns. Briefly, `calcBaseline` looks into the frequency of replacement and silent mutations, normalized by some expectation that comes from a targeting model, and generates a probability density function (PDF), which can be used to compare selection across conditions. An increased frequency of R mutations suggests positive selection, and a decreased frequency of R mutations as points towards negative selection .\n",
    "<br><br>\n",
    "<div style=\"float:left; margin-right:2em\">\n",
    "    \n",
    "$\\sum \\equiv log  \\frac{\\pi/(1-\\pi)}{\\hat{\\pi}/(1-\\hat{\\pi})}$ \n",
    "</div>\n",
    "<div>\n",
    "positive Σ: Replacement frequency higher than expected\n",
    "\n",
    "negative Σ: Replacement frequency lower than expected\n",
    "</div>"
   ]
  },
  {
   "cell_type": "markdown",
   "metadata": {
    "cell_style": "center",
    "slideshow": {
     "slide_type": "slide"
    }
   },
   "source": [
    "Selection pressure analysis starts collapsing each clone to one representative sequence and germline with the function `collapseClones`. Individual sequences within clonal groups are not, strictly speaking, independent events and it is generally appropriate to only analyze selection pressures on an effective sequence for each clonal group, to prevent counting multiple times the mutations. Then, `calcBaseline` takes the representative clone sequences and calculates the selection pressure. The analysis can be focused on a particular region, here the V region (`regionDefinition=IMGT_V`). Because the frequency of somatic mutations is not uniform across the BCR, we may also be interested to evaluate the selection pressure for different Complementary Determining Regions (CDR) or Framework Regions (FWR), or even different isotopes or subjects. This can be done with `groupbaseline`, which convolves the PDFs into a single PDF for each individual group. \n",
    "\n",
    "\n",
    "These PDF can be visualized with `plot`. FWR are involved in the maintenance of the structure of the BCR and typically have a lower observed mutation frequency, because mutations that alter the amino acid sequence are often negatively selected. CDRs are the areas of the BCR that bind to the antigen, contain more hotspot motifs and their structure is less constrained, and usually have higher observed mutation frequencies. In the example, negative selection is observed in the FWR, and almost no selection is observed in the CDR. Sequences annotated with IGHM isotype show a more positive selection strength than sequences annotated with IGHG and IGHA, on both CDR and FWR regions."
   ]
  },
  {
   "cell_type": "code",
   "execution_count": null,
   "metadata": {
    "slideshow": {
     "slide_type": "-"
    }
   },
   "outputs": [],
   "source": [
    "%%R\n",
    "# Calculate clonal consensus and selection using the BASELINe method\n",
    "z <- collapseClones(db)\n",
    "b <- calcBaseline(z, regionDefinition=IMGT_V)\n",
    "# Combine selection scores for all clones in each group\n",
    "g <- groupBaseline(b, groupBy=\"ISOTYPE\")\n",
    "# Plot probability densities for the selection pressure\n",
    "plot(g, \"ISOTYPE\", sigmaLimits=c(-1, 1), silent=F)"
   ]
  },
  {
   "cell_type": "markdown",
   "metadata": {
    "cell_style": "center",
    "slideshow": {
     "slide_type": "slide"
    }
   },
   "source": [
    "# SHazaM: Built in mutation models\n",
    "\n",
    "`shazam` comes with serveral built in targeting models, mutation models and sequence region definitions. They are used by different functions and they can be used to change their default behaviour. For example, mutations can be considered as R when they introduce a change in the amino acid (`NULL`) or when they introduce a change in the side chain charge (`CHARGE_MUTATIONS`).\n",
    "\n",
    "Empirical SHM Targeting Models\n",
    "\n",
    "- HH_S5F: Human heavy chain 5-mer model\n",
    "\n",
    "- HKL_S5F: Human light chain 5-mer model\n",
    "\n",
    "- MK_RS5NF: Mouse light chain 5-mer model\n",
    "\n",
    "Mutation Definitions\n",
    "\n",
    "- NULL: Any change in amino acid is a replacement mutation.\n",
    "\n",
    "- CHARGE_MUTATIONS:  Replacements are changes in side chain charge\n",
    "\n",
    "- HYDOPATHY_MUTATIONS: Replacements are changes in hydrophobicity class\n",
    "\n",
    "- POLARITY_MUTATIONS: Replacements are changes in polarity\n",
    "\n",
    "- VOLUME_MUTATIONS: Replacements are change in volume class\n",
    "\n",
    "Sequence Region Definitions\n",
    "\n",
    "- NULL:  Full sequence\n",
    "\n",
    "- IMGT_V:  V segment broken into combined CDRs and FWRs\n",
    "\n",
    "- IMGT_V_BY_REGIONS: V segment broken into individual CDRs and FWRs\n"
   ]
  },
  {
   "cell_type": "markdown",
   "metadata": {
    "cell_style": "center",
    "slideshow": {
     "slide_type": "slide"
    }
   },
   "source": [
    "# References\n",
    "\n",
    "Gadala-Maria,D. et al. (2019) Identification of subject-specific\n",
    "immunoglobulin alleles from expressed repertoire sequencing data. Frontiers\n",
    "in Immunology, 10, 129.\n",
    "\n",
    "Gadala-Maria,D. et al. (2015) Automated analysis of high-throughput b-cell\n",
    "sequencing data reveals a high frequency of novel immunoglobulin v gene\n",
    "segment alleles. Proceedings of the National Academy of Sciences,\n",
    "201417683.\n",
    "\n",
    "Gupta,N.T. et al. (2017) Hierarchical clustering can identify b cell clones\n",
    "with high confidence in ig repertoire sequencing data. The Journal of\n",
    "Immunology, 1601850.\n",
    "\n",
    "Gupta,N.T. et al. (2015) Change-o: A toolkit for analyzing large-scale b cell\n",
    "immunoglobulin repertoire sequencing data. Bioinformatics, 31, 3356–3358.\n",
    "\n",
    "Laserson,U. et al. (2014) High-resolution antibody dynamics of\n",
    "vaccine-induced immune responses. Proc. Natl. Acad. Sci. U.S.A., 111,\n",
    "4928–4933.\n",
    "\n",
    "Nouri,N. and Kleinstein,S.H. (2018a) A spectral clustering-based method\n",
    "for identifying clones from high-throughput b cell repertoire sequencing data.\n",
    "Bioinformatics, 34, i341–i349.\n",
    "\n",
    "Nouri,N. and Kleinstein,S.H. (2018b) Optimized threshold inference for\n",
    "partitioning of clones from high-throughput b cell repertoire sequencing\n",
    "data. Frontiers in immunology, 9.\n",
    "\n",
    "Stern,J.N. et al. (2014) B cells populating the multiple sclerosis brain\n",
    "mature in the draining cervical lymph nodes. Science translational medicine,\n",
    "6, 248ra107–248ra107.\n",
    "\n",
    "Vander Heiden,J.A. et al. (2017) Dysregulation of b cell repertoire\n",
    "formation in myasthenia gravis patients revealed through deep sequencing.\n",
    "The Journal of Immunology, 1601415.\n",
    "\n",
    "Yaari,G. et al. (2012) Quantifying selection in high-throughput\n",
    "immunoglobulin sequencing data sets. Nucleic acids research, 40,\n",
    "e134–e134.\n",
    "\n",
    "Yaari,G. et al. (2013) Models of somatic hypermutation targeting and\n",
    "substitution based on synonymous mutations from high-throughput\n",
    "immunoglobulin sequencing data. Frontiers in immunology, 4, 358.\n"
   ]
  }
 ],
 "metadata": {
  "celltoolbar": "Slideshow",
  "kernelspec": {
   "display_name": "Python 3",
   "language": "python",
   "name": "python3"
  },
  "language_info": {
   "codemirror_mode": {
    "name": "ipython",
    "version": 3
   },
   "file_extension": ".py",
   "mimetype": "text/x-python",
   "name": "python",
   "nbconvert_exporter": "python",
   "pygments_lexer": "ipython3",
   "version": "3.7.2"
  }
 },
 "nbformat": 4,
 "nbformat_minor": 2
}
